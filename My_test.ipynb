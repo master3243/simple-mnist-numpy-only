{
 "cells": [
  {
   "cell_type": "code",
   "execution_count": 1,
   "metadata": {
    "collapsed": true
   },
   "outputs": [],
   "source": [
    "%matplotlib inline\n",
    "import math\n",
    "import numpy as np\n",
    "import matplotlib.pyplot as plt\n",
    "import pandas as pd\n",
    "import scipy.io #Used to load the OCTAVE *.mat files\n",
    "import scipy.misc #Used to show matrix as an image\n",
    "import matplotlib.cm as cm #Used to display images in a specific colormap\n",
    "import random #To pick random images to display\n",
    "import scipy.optimize #fmin_cg to train neural network\n",
    "import itertools\n",
    "from scipy.special import expit #Vectorized sigmoid function"
   ]
  },
  {
   "cell_type": "code",
   "execution_count": 2,
   "metadata": {},
   "outputs": [
    {
     "name": "stdout",
     "output_type": "stream",
     "text": [
      "Number of examples 5000\n",
      "pixels per example 400\n",
      "Different classes for Y: [ 1  2  3  4  5  6  7  8  9 10]\n",
      "Theta1 shape: (25, 401)\n",
      "Theta2 shape: (10, 26)\n"
     ]
    }
   ],
   "source": [
    "datafile = 'data/ex4data1.mat'\n",
    "weightsfile = 'data/ex4weights.mat'\n",
    "mat = scipy.io.loadmat(datafile)\n",
    "weights = scipy.io.loadmat(weightsfile)\n",
    "Theta1, Theta2 = weights['Theta1'], weights['Theta2']\n",
    "X, y = mat['X'], mat['y']\n",
    "print('Number of examples {}'.format(X.shape[0]))\n",
    "print('pixels per example {}'.format(X[0].shape[0]))\n",
    "print('Different classes for Y: {}'.format(np.unique(y)))\n",
    "print('Theta1 shape: {}'.format(Theta1.shape))\n",
    "print('Theta2 shape: {}'.format(Theta2.shape))\n"
   ]
  },
  {
   "cell_type": "code",
   "execution_count": 3,
   "metadata": {},
   "outputs": [
    {
     "data": {
      "image/png": "[encoded data removed]",
      "text/plain": [
       "<matplotlib.figure.Figure at 0x7f3779a5b7f0>"
      ]
     },
     "metadata": {},
     "output_type": "display_data"
    },
    {
     "name": "stdout",
     "output_type": "stream",
     "text": [
      "    [3]   [4]   [9]   [3]   [6]   \n",
      "    [1]   [1]   [4]   [3]   [5]   \n",
      "    [6]   [7]   [5]   [8]   [4]   \n",
      "    [4]   [7]   [2]   [8]   [4]   \n",
      "    [0]   [2]   [3]   [5]   [9]   \n"
     ]
    }
   ],
   "source": [
    "def display_numbers(indices=None, NN_guess=None):\n",
    "    if indices is None:\n",
    "        indices = [random.randrange(len(X)) for n in range(25)]\n",
    "    elif len(indices) > 25:\n",
    "        display_numbers(indices[0:25], NN_guess)\n",
    "        display_numbers(indices[25:], NN_guess)\n",
    "        return\n",
    "    grid = None\n",
    "    sqrt_num = math.ceil(math.sqrt(len(indices)))\n",
    "    for n in range(sqrt_num):\n",
    "        row = None\n",
    "        for m in range(sqrt_num):\n",
    "            if sqrt_num*n+m >= len(indices):\n",
    "                if row is None:\n",
    "                    row = np.zeros((20, 20))\n",
    "                else:\n",
    "                    row = np.concatenate((row, np.zeros((20, 20))), axis=1)\n",
    "            elif row is None:\n",
    "                row = np.array(X[indices[sqrt_num*n+m]]).reshape(20, 20, order='F')\n",
    "            else:\n",
    "                number = np.array(X[indices[sqrt_num*n+m]]).reshape(20, 20, order='F')\n",
    "                row = np.concatenate((row, number), axis=1)\n",
    "        if grid is None:\n",
    "            grid = row\n",
    "        else:\n",
    "            grid = np.concatenate((grid, row), axis=0)\n",
    "    plt.imshow(grid, interpolation='nearest', cmap='gray')\n",
    "    plt.show()\n",
    "    \n",
    "    # print correct answers\n",
    "    for n in range(sqrt_num):\n",
    "        print('    ', end='')\n",
    "        for m in range(sqrt_num):\n",
    "            if sqrt_num*n+m >= len(indices):\n",
    "                break\n",
    "            if NN_guess is None:\n",
    "                print('{}   '.format(y[indices[sqrt_num*n+m]]%10), end='')\n",
    "            else:\n",
    "                print('{0}:{1}   '.format(y[indices[sqrt_num*n+m]][0]%10, NN_guess[sqrt_num*n+m]%10), end='')\n",
    "        print()\n",
    "    \n",
    "display_numbers()"
   ]
  },
  {
   "cell_type": "code",
   "execution_count": 4,
   "metadata": {
    "collapsed": true
   },
   "outputs": [],
   "source": [
    "def sigmoid(value):\n",
    "    return expit(value)\n",
    "\n",
    "def forward_prop(input_data, Theta1, Theta2):\n",
    "    input_data = np.insert(input_data, 0, 1, axis=1)\n",
    "    \n",
    "    z1 = np.dot(input_data, Theta1.transpose())\n",
    "    a1 = sigmoid(z1)\n",
    "    a1 = np.insert(a1, 0, 1, axis=1)\n",
    "\n",
    "    z2 = np.dot(a1, Theta2.transpose())\n",
    "    a2 = sigmoid(z2)\n",
    "    return a2"
   ]
  },
  {
   "cell_type": "code",
   "execution_count": 5,
   "metadata": {},
   "outputs": [
    {
     "name": "stdout",
     "output_type": "stream",
     "text": [
      "(5000, 401)\n",
      "(25, 401)\n",
      "(10, 26)\n"
     ]
    }
   ],
   "source": [
    "print(np.insert(X, 0, 1, axis=1).shape)\n",
    "print(Theta1.shape)\n",
    "print(Theta2.shape)"
   ]
  },
  {
   "cell_type": "code",
   "execution_count": 6,
   "metadata": {},
   "outputs": [
    {
     "name": "stdout",
     "output_type": "stream",
     "text": [
      "4876 out of 5000 correct\n",
      "Accuracy: 97.52%\n"
     ]
    }
   ],
   "source": [
    "count = 0\n",
    "guess = forward_prop(X, Theta1, Theta2)\n",
    "guess = (np.argmax(guess, axis=1)+1)%10\n",
    "actual = (y%10).reshape(-1)\n",
    "delta = guess - actual\n",
    "\n",
    "wrong_count = np.count_nonzero(delta)\n",
    "\n",
    "print('{} out of {} correct'.format(len(X) - wrong_count, len(X)))\n",
    "print('Accuracy: {}%'.format((len(X) - wrong_count)/len(X)*100))\n",
    "\n",
    "indices = [n for n in range(len(delta)) if delta[n] != 0]\n",
    "NN_guess = [n for n in delta if n != 0]\n",
    "# display_numbers(indices, NN_guess)"
   ]
  },
  {
   "cell_type": "code",
   "execution_count": 93,
   "metadata": {
    "collapsed": true
   },
   "outputs": [],
   "source": [
    "def flattenArrays(arrays):\n",
    "    sizeInfo = [arr.shape for arr in arrays]\n",
    "    flattenedArrays = np.concatenate(tuple(arr.reshape(1, -1) for arr in arrays), axis=1)\n",
    "    return (flattenedArrays, sizeInfo)\n",
    "    \n",
    "def recoverFlattenedArrays(flattenedArrays, sizeInfo):\n",
    "    indices = list(itertools.accumulate([0] + [n[0]*n[1] for n in sizeInfo]))\n",
    "    recovered_arrays = []\n",
    "    for key, shape in enumerate(sizeInfo):\n",
    "        current_array = (flattenedArrays[0][indices[key]:indices[key+1]]).reshape(*shape)\n",
    "        recovered_arrays.append(current_array)\n",
    "    return recovered_arrays\n",
    "\n",
    "def recoverThetas(thetas_flattened):\n",
    "    size_info = [Theta1.shape, Theta2.shape]\n",
    "    return recoverFlattenedArrays(thetas_flattened, size_info)\n",
    "\n",
    "def recoverX(X_flattened):\n",
    "    size_info = [X.shape]\n",
    "    return recoverFlattenedArrays(X_flattened, size_info)\n",
    "        \n",
    "\n",
    "def costFunction(myThetas_flattened, myX_flattened, myy, myLambda=0):\n",
    "    thetas = recoverThetas(myThetas_flattened)\n",
    "    theta1 = thetas[0]\n",
    "    theta2 = thetas[1]\n",
    "    myX = recoverX(myX_flattened)[0]\n",
    "    num_examples = myX.shape[0]\n",
    "    \n",
    "    hypothosis = forward_prop(myX, theta1, theta2)\n",
    "    \n",
    "    expanded_y = np.insert(np.zeros(9), myy[0]-1, 1)\n",
    "    for n in y[1:]:\n",
    "        expanded_y = np.concatenate((expanded_y, np.insert(np.zeros(9), n-1, 1)))\n",
    "    expanded_y = expanded_y.reshape(-1, 10)\n",
    "    cost = -1/num_examples * np.sum(expanded_y*np.log(hypothosis)+(1-expanded_y)*np.log(1-hypothosis))\n",
    "    \n",
    "    reg = 0\n",
    "    reg = np.sum(np.power(theta1[:, 1:], 2))\n",
    "    reg += np.sum(np.power(theta2[:, 1:], 2))\n",
    "    reg *= myLambda/(2*num_examples)\n",
    "    return cost + reg\n",
    "\n",
    "def sigmoidGradient(value):\n",
    "    temp = sigmoid(value)\n",
    "    return temp*(1-temp)\n",
    "\n",
    "def genRandThetas():\n",
    "    epsilon_init = 0.12\n",
    "    return [np.random.rand(25, 400) * 2 * epsilon_init - epsilon_init, \n",
    "            np.random.rand(10, 25) * 2 * epsilon_init - epsilon_init]"
   ]
  },
  {
   "cell_type": "code",
   "execution_count": 94,
   "metadata": {
    "scrolled": true
   },
   "outputs": [
    {
     "data": {
      "text/plain": [
       "array([ 0.25      ,  0.25      ,  0.19661193])"
      ]
     },
     "execution_count": 94,
     "metadata": {},
     "output_type": "execute_result"
    }
   ],
   "source": []
  },
  {
   "cell_type": "code",
   "execution_count": 72,
   "metadata": {},
   "outputs": [
    {
     "data": {
      "text/plain": [
       "30"
      ]
     },
     "execution_count": 72,
     "metadata": {},
     "output_type": "execute_result"
    }
   ],
   "source": [
    "\n"
   ]
  },
  {
   "cell_type": "code",
   "execution_count": 235,
   "metadata": {},
   "outputs": [
    {
     "name": "stdout",
     "output_type": "stream",
     "text": [
      "2\n"
     ]
    }
   ],
   "source": [
    "l1 = 'ABC'\n",
    "l2 = 'AC'\n",
    "grid = [[0 for col in range(len(l1)+1)] for row in range(len(l2)+1)]\n",
    "for key_row, row in enumerate(grid):\n",
    "    if key_row == 0:\n",
    "        continue\n",
    "    for key_col, col in enumerate(row):\n",
    "        if key_col == 0:\n",
    "            continue\n",
    "        if l1[key_col-1] == l2[key_row-1]:\n",
    "            grid[key_row][key_col] = grid[key_row-1][key_col-1]+1\n",
    "        else:\n",
    "            grid[key_row][key_col] = max(grid[key_row-1][key_col], grid[key_row][key_col-1])\n",
    "print(grid[-1][-1])"
   ]
  }
 ],
 "metadata": {
  "kernelspec": {
   "display_name": "Python 3",
   "language": "python",
   "name": "python3"
  },
  "language_info": {
   "codemirror_mode": {
    "name": "ipython",
    "version": 3
   },
   "file_extension": ".py",
   "mimetype": "text/x-python",
   "name": "python",
   "nbconvert_exporter": "python",
   "pygments_lexer": "ipython3",
   "version": "3.6.3"
  }
 },
 "nbformat": 4,
 "nbformat_minor": 2
}
